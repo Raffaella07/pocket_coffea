{
 "cells": [
  {
   "cell_type": "code",
   "execution_count": 3,
   "id": "7acee39f",
   "metadata": {},
   "outputs": [],
   "source": [
    "from coffea.nanoevents import NanoEventsFactory, NanoAODSchema\n",
    "from coffea import hist, processor\n",
    "import numpy as np\n",
    "import awkward as ak\n",
    "import matplotlib.pyplot as plt\n",
    "from pprint import pprint\n",
    "import numba"
   ]
  },
  {
   "cell_type": "code",
   "execution_count": 4,
   "id": "eabe73ee-e659-4878-90c6-d777de8fb1be",
   "metadata": {},
   "outputs": [],
   "source": [
    "def show(a, ievt=0):\n",
    "    pprint(a[ievt].tolist())"
   ]
  },
  {
   "cell_type": "code",
   "execution_count": 213,
   "id": "0c89709e",
   "metadata": {},
   "outputs": [
    {
     "ename": "TypeError",
     "evalue": "Invalid file type (<class 'list'>)",
     "output_type": "error",
     "traceback": [
      "\u001b[0;31m---------------------------------------------------------------------------\u001b[0m",
      "\u001b[0;31mTypeError\u001b[0m                                 Traceback (most recent call last)",
      "Cell \u001b[0;32mIn[213], line 3\u001b[0m\n\u001b[1;32m      1\u001b[0m filename \u001b[38;5;241m=\u001b[39m [\u001b[38;5;124m\"\u001b[39m\u001b[38;5;124mroot://xrootd-cms.infn.it///store/mc/RunIIAutumn18NanoAOD/GluGluHToBB_M125_13TeV_powheg_pythia8/NANOAODSIM/102X_upgrade2018_realistic_v15-v1/90000/D6407856-BDE7-C341-B778-0406CA4A2136.root.root\u001b[39m\u001b[38;5;124m\"\u001b[39m, \u001b[38;5;124m\"\u001b[39m\u001b[38;5;124mroot://xrootd-cms.infn.it///store/mc/RunIIAutumn18NanoAOD/GluGluHToBB_M125_13TeV_powheg_pythia8/NANOAODSIM/102X_upgrade2018_realistic_v15-v1/90000/D6407856-BDE7-C341-B778-0406CA4A2136.root.root\u001b[39m\u001b[38;5;124m\"\u001b[39m]\n\u001b[1;32m      2\u001b[0m \u001b[38;5;66;03m#events = NanoEventsFactory.from_root(filename, schemaclass=NanoAODSchema).events()\u001b[39;00m\n\u001b[0;32m----> 3\u001b[0m events \u001b[38;5;241m=\u001b[39m \u001b[43mNanoEventsFactory\u001b[49m\u001b[38;5;241;43m.\u001b[39;49m\u001b[43mfrom_root\u001b[49m\u001b[43m(\u001b[49m\u001b[43mfilename\u001b[49m\u001b[43m,\u001b[49m\u001b[43m \u001b[49m\u001b[43mschemaclass\u001b[49m\u001b[38;5;241;43m=\u001b[39;49m\u001b[43mNanoAODSchema\u001b[49m\u001b[43m)\u001b[49m\u001b[38;5;241m.\u001b[39mevents()\n\u001b[1;32m      6\u001b[0m dataset \u001b[38;5;241m=\u001b[39m \u001b[38;5;124m\"\u001b[39m\u001b[38;5;124mggHTobb\u001b[39m\u001b[38;5;124m\"\u001b[39m\n",
      "File \u001b[0;32m~/.local/lib/python3.9/site-packages/coffea/nanoevents/factory.py:104\u001b[0m, in \u001b[0;36mNanoEventsFactory.from_root\u001b[0;34m(cls, file, treepath, entry_start, entry_stop, runtime_cache, persistent_cache, schemaclass, metadata, uproot_options, access_log, iteritems_options)\u001b[0m\n\u001b[1;32m     99\u001b[0m     \u001b[38;5;28;01mraise\u001b[39;00m \u001b[38;5;167;01mRuntimeError\u001b[39;00m(\n\u001b[1;32m    100\u001b[0m         \u001b[38;5;124m\"\u001b[39m\u001b[38;5;124mThe file instance (\u001b[39m\u001b[38;5;132;01m%r\u001b[39;00m\u001b[38;5;124m) is an uproot3 type, but this module is only compatible with uproot4 or higher\u001b[39m\u001b[38;5;124m\"\u001b[39m\n\u001b[1;32m    101\u001b[0m         \u001b[38;5;241m%\u001b[39m file\n\u001b[1;32m    102\u001b[0m     )\n\u001b[1;32m    103\u001b[0m \u001b[38;5;28;01melse\u001b[39;00m:\n\u001b[0;32m--> 104\u001b[0m     \u001b[38;5;28;01mraise\u001b[39;00m \u001b[38;5;167;01mTypeError\u001b[39;00m(\u001b[38;5;124m\"\u001b[39m\u001b[38;5;124mInvalid file type (\u001b[39m\u001b[38;5;132;01m%s\u001b[39;00m\u001b[38;5;124m)\u001b[39m\u001b[38;5;124m\"\u001b[39m \u001b[38;5;241m%\u001b[39m (\u001b[38;5;28mstr\u001b[39m(\u001b[38;5;28mtype\u001b[39m(file))))\n\u001b[1;32m    106\u001b[0m \u001b[38;5;28;01mif\u001b[39;00m entry_start \u001b[38;5;129;01mis\u001b[39;00m \u001b[38;5;28;01mNone\u001b[39;00m \u001b[38;5;129;01mor\u001b[39;00m entry_start \u001b[38;5;241m<\u001b[39m \u001b[38;5;241m0\u001b[39m:\n\u001b[1;32m    107\u001b[0m     entry_start \u001b[38;5;241m=\u001b[39m \u001b[38;5;241m0\u001b[39m\n",
      "\u001b[0;31mTypeError\u001b[0m: Invalid file type (<class 'list'>)"
     ]
    }
   ],
   "source": [
    "filename = [\"root://xrootd-cms.infn.it///store/mc/RunIIAutumn18NanoAOD/GluGluHToBB_M125_13TeV_powheg_pythia8/NANOAODSIM/102X_upgrade2018_realistic_v15-v1/90000/D6407856-BDE7-C341-B778-0406CA4A2136.root.root\"]\n",
    "#events = NanoEventsFactory.from_root(filename, schemaclass=NanoAODSchema).events()\n",
    "events = NanoEventsFactory.from_root(filename, schemaclass=NanoAODSchema).events()\n",
    "\n",
    "\n",
    "dataset = \"ggHTobb\""
   ]
  },
  {
   "cell_type": "code",
   "execution_count": 6,
   "id": "bbbfdba9",
   "metadata": {},
   "outputs": [],
   "source": [
    "ievt = 0"
   ]
  },
  {
   "cell_type": "code",
   "execution_count": 7,
   "id": "b77cb2ad-921c-4539-97c5-77b370a63481",
   "metadata": {},
   "outputs": [],
   "source": [
    "#load_ext snakeviz"
   ]
  },
  {
   "cell_type": "code",
   "execution_count": null,
   "id": "b8b6cde9-dc97-42fa-b366-688d4c34e78c",
   "metadata": {},
   "outputs": [],
   "source": []
  },
  {
   "cell_type": "code",
   "execution_count": 184,
   "id": "9f343764-22b9-4f96-a0e4-8b75aa719d26",
   "metadata": {},
   "outputs": [
    {
     "name": "stdout",
     "output_type": "stream",
     "text": [
      "[[71.5, 54.4], [40.6, 33.5], [60.2, 46.6], ... 96.8, 84], [67.8, 13.5], [75.8, 54.6]]\n"
     ]
    }
   ],
   "source": [
    "#timeit\n",
    "#selects gen b quarks with at least a muon child\n",
    "isOutgoing = events.GenPart.status == 1\n",
    "\n",
    "muonChild = (abs(ak.any(events.GenPart.children.pdgId))==13)\n",
    "eleChild = abs(ak.any(events.GenPart.children.pdgId))==11\n",
    "bquarks = events.GenPart[isB & isOutgoing ]\n",
    "\n",
    "\n",
    "# Select b-quarks at Gen level, coming from H->bb decay\n",
    "if dataset == 'ggHTobb':\n",
    "    \n",
    "    #It is a b quark\n",
    "    isB = abs(events.GenPart.pdgId) == 5\n",
    "    \n",
    "    #has a muon child (will/can be substituted with lepton child if needed)\n",
    "    hasMuonChildren =  ak.any(abs(events.GenPart.children.pdgId)==13)\n",
    "    \n",
    "    #has H mother from hard process\n",
    "    hasHmother = events.GenPart[events.GenPart.genPartIdxMother].pdgId==25\n",
    "    hasHardMother = events.GenPart[events.GenPart.genPartIdxMother].hasFlags(['fromHardProcess'])\n",
    "    \n",
    "    #apply mask to GenParticles\n",
    "    bquarks = events.GenPart[isB & hasHmother & hasMuonChildren]\n",
    "   \n",
    "    # Sort b-quarks by pt\n",
    "    bquarks = ak.with_name(bquarks[ak.argsort(bquarks.pt, ascending=False)], name='PtEtaPhiMCandidate')\n",
    "    print(bquarks.pt)\n",
    " "
   ]
  },
  {
   "cell_type": "code",
   "execution_count": null,
   "id": "75935482-65b2-4c7b-ad5f-64438506c224",
   "metadata": {},
   "outputs": [],
   "source": [
    "    "
   ]
  },
  {
   "cell_type": "code",
   "execution_count": null,
   "id": "46b03011-9cb4-4d6b-8e41-e057564d9226",
   "metadata": {},
   "outputs": [],
   "source": []
  },
  {
   "cell_type": "code",
   "execution_count": null,
   "id": "7f17dc04-406a-4b4f-935e-64b290858814",
   "metadata": {},
   "outputs": [],
   "source": []
  },
  {
   "cell_type": "code",
   "execution_count": 196,
   "id": "daa30008-66d7-4177-933b-7609d4bbb009",
   "metadata": {},
   "outputs": [],
   "source": [
    "#isOutgoing = events.LHEPart.status == 1\n",
    "#isB = abs(events.LHEPart.pdgId) == 5\n",
    "#bquarks = events.LHEPart[isB & isOutgoing]\n",
    "\n",
    "#higgs = events.GenPart[(events.GenPart.pdgId == 25) & events.GenPart.hasFlags(['fromHardProcess'])]\n",
    "#higgs = higgs[ak.num(higgs.childrenIdxG, axis=2) == 2]\n",
    "#bquarks = ak.concatenate( (bquarks, ak.flatten(higgs.children, axis=2)), axis=1 )\n",
    "# Sort b-quarks by pt\n",
    "#bquarks = ak.with_name(bquarks[ak.argsort(bquarks.pt, ascending=False)], name='PtEtaPhiMCandidate')"
   ]
  },
  {
   "cell_type": "code",
   "execution_count": 197,
   "id": "ca3cbd22-4503-42fa-a8db-b04fcc77f3ed",
   "metadata": {},
   "outputs": [],
   "source": [
    "#bquarks = events.LHEPart[isB & isOutgoing]"
   ]
  },
  {
   "cell_type": "code",
   "execution_count": null,
   "id": "048c59d6-a8a2-47d8-baab-87fe83f787f9",
   "metadata": {},
   "outputs": [],
   "source": []
  },
  {
   "cell_type": "code",
   "execution_count": 198,
   "id": "241e9507-d5f1-4b63-9705-5a5a1ba4e701",
   "metadata": {},
   "outputs": [
    {
     "name": "stdout",
     "output_type": "stream",
     "text": [
      "[[{eta: -0.165, mass: 0, phi: 0.75, pt: 71.5, ... 6587399, 6587401, 6587400]}]]\n",
      "[[Jet, Jet, Jet, Jet, Jet, Jet, Jet, Jet, ... Jet, Jet, Jet, Jet, Jet, Jet, Jet]]\n",
      "[3.41, 3.83, 0.165, 2.92, 0.0656, 1.83, ... 0.401, 2.24, 1.69, 2.6, 0.00562, 3.19]\n"
     ]
    }
   ],
   "source": [
    "#%%timeit\n",
    "# Compute deltaR(b, jet) and save the nearest jet (deltaR matching)\n",
    "dr_min = 0.4\n",
    "\n",
    "#ask for exactly one muon in the B jet\n",
    "mask_mu1 = events.Jet.muonIdx1!= -1\n",
    "\n",
    "#mask_mu2 = events.Jet.muonIdx2!= -1\n",
    "#define muon_jet collection\n",
    "events[\"muon_Jet\"] = events.Jet[ mask_mu1 ] \n",
    "\n",
    "gen_mu = events.Muon.genPartIdx[events.muon_Jet.muonIdx1]!=-1\n",
    "\n",
    "#require for the muon to be a genMatched mu\n",
    "match_mu1 = abs(events.GenPart.pdgId[events.Muon.genPartIdx[events.muon_Jet.muonIdx1]])==13\n",
    "match_mu2 = abs(events.GenPart.pdgId[events.Muon.genPartIdx[events.muon_Jet.muonIdx2]])==13\n",
    "\n",
    "#recompute muon_Jet\n",
    "events[\"muon_Jet\"] = events.Jet[match_mu1 ] \n",
    "\n",
    "#compute dR between gen b quarks and reco-jets\n",
    "deltaR = ak.flatten(bquarks.metric_table(events.muon_Jet), axis=2)\n",
    "\n",
    "#print(ak.flatten(deltaR))\n",
    "# keeping only the pairs with a deltaR min\n",
    "\n",
    "#build the mask for matching and apply it\n",
    "maskDR = deltaR < dr_min\n",
    "deltaRcut = deltaR[maskDR]\n",
    "\n",
    "#show(deltaRcut,1)#--> the mask works since we are applying it also to the argcartesian\n",
    "\n",
    "idx_pairs_sorted = ak.argsort(deltaRcut, axis=1)\n",
    "#get the gen b -recojet matched pairs \n",
    "pairs = ak.argcartesian([bquarks, events.Jet])[maskDR]\n",
    "\n",
    "#show(pairs,1)\n",
    "\n",
    "pairs_sorted = pairs[idx_pairs_sorted]\n",
    "deltaR_sorted = deltaRcut[idx_pairs_sorted]\n",
    "\n",
    "#get the orderd indexes for the pairs in each collection \n",
    "idx_quark, idx_jets = ak.unzip(pairs_sorted)\n",
    "\n"
   ]
  },
  {
   "cell_type": "code",
   "execution_count": null,
   "id": "b4ac315f-0119-425f-a03f-e2ce669af676",
   "metadata": {},
   "outputs": [],
   "source": []
  },
  {
   "cell_type": "code",
   "execution_count": 199,
   "id": "e5500926-ddbd-4c11-9521-479891be9a89",
   "metadata": {},
   "outputs": [],
   "source": [
    "#show(pairs,1)"
   ]
  },
  {
   "cell_type": "code",
   "execution_count": 200,
   "id": "6ca2bf42-75ce-46f0-9618-679ccd2ea2b0",
   "metadata": {},
   "outputs": [],
   "source": [
    "#show(idx_pairs_sorted,1)"
   ]
  },
  {
   "cell_type": "code",
   "execution_count": 201,
   "id": "78a8310d-efbd-434e-9de2-ec467e0f6877",
   "metadata": {},
   "outputs": [
    {
     "data": {
      "text/plain": [
       "[[],\n",
       " [],\n",
       " [],\n",
       " [],\n",
       " [],\n",
       " [],\n",
       " [],\n",
       " [],\n",
       " [],\n",
       " [],\n",
       " [],\n",
       " [],\n",
       " [],\n",
       " [],\n",
       " [],\n",
       " [],\n",
       " [],\n",
       " [],\n",
       " [],\n",
       " [],\n",
       " [],\n",
       " [],\n",
       " [],\n",
       " [(0, 0)],\n",
       " [],\n",
       " [],\n",
       " [],\n",
       " [],\n",
       " [],\n",
       " [(0, 0)],\n",
       " [],\n",
       " [(0, 0)],\n",
       " [],\n",
       " [],\n",
       " [],\n",
       " [],\n",
       " [],\n",
       " [],\n",
       " [],\n",
       " [],\n",
       " [],\n",
       " [],\n",
       " [],\n",
       " [],\n",
       " [],\n",
       " [],\n",
       " [(0, 0)],\n",
       " [],\n",
       " [],\n",
       " [],\n",
       " [],\n",
       " [],\n",
       " [],\n",
       " [],\n",
       " [],\n",
       " [],\n",
       " [],\n",
       " [],\n",
       " [],\n",
       " [],\n",
       " [(0, 0)],\n",
       " [],\n",
       " [],\n",
       " [(0, 1)],\n",
       " [],\n",
       " [],\n",
       " [],\n",
       " [],\n",
       " [],\n",
       " [],\n",
       " [],\n",
       " [(0, 0)],\n",
       " [],\n",
       " [],\n",
       " [],\n",
       " [],\n",
       " [],\n",
       " [],\n",
       " [],\n",
       " [],\n",
       " [],\n",
       " [],\n",
       " [],\n",
       " [],\n",
       " [(0, 0)],\n",
       " [],\n",
       " [(0, 0)],\n",
       " [],\n",
       " [],\n",
       " [],\n",
       " [],\n",
       " [],\n",
       " [],\n",
       " [],\n",
       " [],\n",
       " [(0, 0)],\n",
       " [],\n",
       " [],\n",
       " [(0, 0)],\n",
       " []]"
      ]
     },
     "execution_count": 201,
     "metadata": {},
     "output_type": "execute_result"
    }
   ],
   "source": [
    "#pairs_sorted[0:100].tolist()"
   ]
  },
  {
   "cell_type": "code",
   "execution_count": 202,
   "id": "f3cf981f-3d48-4148-b864-229e64ce59db",
   "metadata": {},
   "outputs": [],
   "source": [
    "def get_valid_pairs_masks(idx_bquarks, idx_Jet):\n",
    "    hasMatch = ak.zeros_like(idx_Jet, dtype=bool)\n",
    "    Npairmax = ak.max(ak.num(idx_bquarks))\n",
    "    # Loop over the (parton, jet) pairs\n",
    "    for idx_pair in range(Npairmax):\n",
    "        idx_bquark = ak.pad_none(idx_bquarks, Npairmax)[:,idx_pair]\n",
    "        idx_match_candidates = idx_Jet[ak.fill_none( (idx_bquarks == idx_bquark) & ~hasMatch, False)]\n",
    "        idx_pair_candidates  = ak.local_index(idx_Jet)[ak.fill_none( (idx_bquarks == idx_bquark) & ~hasMatch, False)]\n",
    "        #print(idx_bquark[ievt], idx_match_candidates[ievt])\n",
    "        #print(idx_bquark[ievt], idx_pair_candidates[ievt])\n",
    "        if idx_pair == 0:\n",
    "            idx_matchedJet    = ak.unflatten( ak.firsts(idx_match_candidates), 1 )\n",
    "            idx_matchedParton = ak.unflatten( idx_bquark, 1 )\n",
    "            idx_matchedPair   = ak.unflatten( ak.firsts(idx_pair_candidates), 1 )\n",
    "        else:\n",
    "            # If the partons are matched in all events or the number of jets is smaller than the number of partons, stop iterating\n",
    "            if ak.all( ( (ak.count(idx_matchedJet, axis=1) == ak.count(bquarks.pt, axis=1)) | (ak.count(events.Jet.pt, axis=1) < ak.count(bquarks.pt, axis=1) ) ) ): break\n",
    "            idx_matchedJet    = ak.concatenate( (idx_matchedJet, ak.unflatten( ak.firsts(idx_match_candidates), 1 ) ), axis=1 )\n",
    "            idx_matchedParton = ak.concatenate( (idx_matchedParton, ak.unflatten( idx_bquark, 1 )), axis=1 )\n",
    "            idx_matchedPair   = ak.concatenate( (idx_matchedPair, ak.unflatten( ak.firsts(idx_pair_candidates), 1 ) ), axis=1 )\n",
    "        # The mask `hasMatch` masks to False the \n",
    "        hasMatch = hasMatch | ak.fill_none(idx_Jet == ak.fill_none(ak.firsts(idx_match_candidates), -99), False) | ak.fill_none(idx_bquarks == idx_bquark, False)\n",
    "        #print(idx_pair, hasMatch[ievt].tolist(), end='\\n\\n')\n",
    "\n",
    "    idx_matchedParton = idx_matchedParton[~ak.is_none(idx_matchedJet, axis=1)]\n",
    "    idx_matchedJet = idx_matchedJet[~ak.is_none(idx_matchedJet, axis=1)]\n",
    "    return idx_matchedParton, idx_matchedJet"
   ]
  },
  {
   "cell_type": "code",
   "execution_count": 203,
   "id": "2a1d823b-5e9a-4b61-a876-93f2a4930f03",
   "metadata": {},
   "outputs": [],
   "source": [
    "def get_valid_pairs_nonumba(idx_quark, idx_jets, builder):\n",
    "    for ev_q, ev_j in zip(idx_quark, idx_jets):\n",
    "        builder.begin_list()\n",
    "        q_done = []\n",
    "        j_done = []\n",
    "        for q,j in zip(ev_q, ev_j):\n",
    "            if q not in q_done and j not in j_done:\n",
    "                builder.begin_record(\"pair\")\n",
    "                builder.field(\"quark\").append(q)\n",
    "                builder.field(\"jet\").append(j)\n",
    "                builder.end_record()\n",
    "                q_done.append(q)\n",
    "                j_done.append(j)\n",
    "        builder.end_list()\n",
    "    return builder"
   ]
  },
  {
   "cell_type": "code",
   "execution_count": 204,
   "id": "b31067e8-14fc-48c8-8a83-c3886af4dc82",
   "metadata": {},
   "outputs": [],
   "source": [
    "def get_valid_pairs_index(idx_quark, idx_jets, builder):\n",
    "    for ev_q, ev_j in zip(idx_quark, idx_jets):\n",
    "        builder.begin_list()\n",
    "        q_done = []\n",
    "        j_done = []\n",
    "        for i, (q,j) in enumerate(zip(ev_q, ev_j)):\n",
    "            if q not in q_done and j not in j_done:\n",
    "                builder.append(i)\n",
    "                q_done.append(q)\n",
    "                j_done.append(j)\n",
    "        builder.end_list()\n",
    "    return builder"
   ]
  },
  {
   "cell_type": "code",
   "execution_count": 205,
   "id": "6e1f2274",
   "metadata": {},
   "outputs": [],
   "source": [
    "def get_dijet(jets, transverse=False):\n",
    "\n",
    "    fields = {\n",
    "        \"pt\": -1,\n",
    "        \"eta\": 1000,\n",
    "        \"phi\": 1000,\n",
    "        \"mass\": -1,\n",
    "    }\n",
    "  \n",
    "    jets= ak.pad_none(jets, 2)\n",
    "    \n",
    "    njets = ak.num(jets[~ak.is_none(jets, axis=1)])\n",
    "\n",
    "    \n",
    "\n",
    "    jj = jets[:,0] + jets[:,1]\n",
    "    jet1 = jets[:,1]\n",
    "    \n",
    "    jet2 = jets[:,1]\n",
    "    deltaR = jet1.delta_r(jet2)\n",
    " \n",
    "\n",
    "    for var in fields.keys():\n",
    "    \n",
    "        fields[var] = ak.where(\n",
    "            (njets==2),\n",
    "            getattr(jj, var),\n",
    "            fields[var],\n",
    "        )\n",
    " #   print(fields['mass'])\n",
    "    if transverse:\n",
    "        fields[\"eta\"] = ak.zeros_like(fields[\"pt\"])\n",
    "    dijets = ak.zip(fields, with_name=\"PtEtaPhiMCandidate\")\n",
    "    dijets = ak.with_field(dijets, deltaR, \"dRdiJet\", behavior=dijets.behavior)\n",
    "    return dijets\n",
    "\n"
   ]
  },
  {
   "cell_type": "markdown",
   "id": "330547b6-d074-432e-8fc7-68ddee16614d",
   "metadata": {},
   "source": [
    "### Checking the results"
   ]
  },
  {
   "cell_type": "code",
   "execution_count": 206,
   "id": "4247fe02-4ce4-44ae-908b-9c742a876246",
   "metadata": {},
   "outputs": [
    {
     "data": {
      "text/plain": [
       "[]"
      ]
     },
     "execution_count": 206,
     "metadata": {},
     "output_type": "execute_result"
    }
   ],
   "source": [
    "idx_matched = get_valid_pairs_index(idx_quark, idx_jets, ak.ArrayBuilder()).snapshot()\n",
    "pairs_sorted[idx_matched][10].tolist()\n"
   ]
  },
  {
   "cell_type": "code",
   "execution_count": 207,
   "id": "b3f98d7e-9c4c-432b-a182-faeb03536098",
   "metadata": {},
   "outputs": [
    {
     "name": "stdout",
     "output_type": "stream",
     "text": [
      "27314\n"
     ]
    },
    {
     "data": {
      "image/png": "[encoded data removed]",
      "text/plain": [
       "<Figure size 640x480 with 1 Axes>"
      ]
     },
     "metadata": {},
     "output_type": "display_data"
    }
   ],
   "source": [
    "plt.hist(ak.flatten(deltaR_sorted[idx_matched]), bins=50, range=(0, 1))\n",
    "\n",
    "print(len(ak.flatten(idx_matched)))\n",
    "# plt.yscale(\"log\")\n"
   ]
  },
  {
   "cell_type": "code",
   "execution_count": 208,
   "id": "c3ae71cc-504b-4bda-bcb4-62b2847352e5",
   "metadata": {},
   "outputs": [
    {
     "data": {
      "text/plain": [
       "<JetArray [] type='0 * jet'>"
      ]
     },
     "execution_count": 208,
     "metadata": {},
     "output_type": "execute_result"
    }
   ],
   "source": [
    "events.Jet[idx_jets[idx_matched]][10]"
   ]
  },
  {
   "cell_type": "code",
   "execution_count": 209,
   "id": "5dec985f-4993-41e7-aceb-5eb5f78dfc52",
   "metadata": {},
   "outputs": [
    {
     "name": "stdout",
     "output_type": "stream",
     "text": [
      "176000\n",
      "\n",
      "176000\n",
      "176000\n"
     ]
    }
   ],
   "source": [
    "#idx_matched = get_valid_pairs_index(idx_quark, idx_jets, ak.ArrayBuilder()).snapshot()\n",
    "#idx_matched = get_valid_pairs_index(idx_quark, idx_jets, ak.ArrayBuilder()).snapshot()\n",
    "print(len(idx_matched))\n",
    "print()\n",
    "# The invalid jet matches result in a None value. Only non-None values are selected.\n",
    "matched_quarks = bquarks[idx_quark[idx_matched]]\n",
    "matched_jets = events.Jet[idx_jets[idx_matched]]\n",
    "deltaR_matched = deltaRcut[idx_matched]\n",
    "print(len(matched_jets))\n",
    "print(len(matched_quarks))"
   ]
  },
  {
   "cell_type": "code",
   "execution_count": 210,
   "id": "de39f1e0-86f0-4415-9e00-25499f28f324",
   "metadata": {},
   "outputs": [
    {
     "name": "stdout",
     "output_type": "stream",
     "text": [
      "[[], [], [], [], [], [], [], [], [], [], ... [], [], [], [], [], [], [], [], [], []]\n"
     ]
    },
    {
     "data": {
      "text/plain": [
       "(array([1., 0., 0., 1., 1., 1., 0., 0., 1., 0., 0., 0., 1., 2., 0., 1., 0.,\n",
       "        0., 2., 5., 4., 5., 0., 1., 4., 2., 7., 2., 2., 4., 5., 1., 3., 1.,\n",
       "        3., 2., 4., 3., 1., 0., 1., 3., 0., 2., 0., 2., 1., 1., 1., 2.]),\n",
       " array([ 63.09249878,  64.45469391,  65.81688904,  67.17908417,\n",
       "         68.5412793 ,  69.90347443,  71.26566956,  72.62786469,\n",
       "         73.99005981,  75.35225494,  76.71445007,  78.0766452 ,\n",
       "         79.43884033,  80.80103546,  82.16323059,  83.52542572,\n",
       "         84.88762085,  86.24981598,  87.61201111,  88.97420624,\n",
       "         90.33640137,  91.6985965 ,  93.06079163,  94.42298676,\n",
       "         95.78518188,  97.14737701,  98.50957214,  99.87176727,\n",
       "        101.2339624 , 102.59615753, 103.95835266, 105.32054779,\n",
       "        106.68274292, 108.04493805, 109.40713318, 110.76932831,\n",
       "        112.13152344, 113.49371857, 114.8559137 , 116.21810883,\n",
       "        117.58030396, 118.94249908, 120.30469421, 121.66688934,\n",
       "        123.02908447, 124.3912796 , 125.75347473, 127.11566986,\n",
       "        128.47786499, 129.84006012, 131.20225525]),\n",
       " <BarContainer object of 50 artists>)"
      ]
     },
     "execution_count": 210,
     "metadata": {},
     "output_type": "execute_result"
    },
    {
     "data": {
      "image/png": "[encoded data removed]",
      "text/plain": [
       "<Figure size 640x480 with 1 Axes>"
      ]
     },
     "metadata": {},
     "output_type": "display_data"
    }
   ],
   "source": [
    "events[\"PartonMatched\"] = ak.with_field(matched_quarks, deltaR_matched, \"dRMatchedJet\", behavior=matched_quarks.behavior)\n",
    "events[\"JetMatched\"] = ak.with_field(matched_jets, deltaR_matched, \"dRMatchedJet\", behavior=matched_jets.behavior)\n",
    "\n",
    "\n",
    "jj = get_dijet(events.JetMatched)\n",
    "\n",
    "#print(events.JetMatched.type)\n",
    "\n",
    "print(events.JetMatched.partonFlavour)\n",
    "\n",
    "plt.hist(jj.mass[jj.mass!=-1], bins=50)\n",
    "\n"
   ]
  },
  {
   "cell_type": "code",
   "execution_count": null,
   "id": "fd3ce00a-7e17-4964-b16c-2d86f7628595",
   "metadata": {},
   "outputs": [],
   "source": [
    "ak.num(events.PartonMatched, axis=1)"
   ]
  },
  {
   "cell_type": "markdown",
   "id": "fc340697-22ae-4bd2-874c-1fde4d6ba453",
   "metadata": {},
   "source": [
    "### Check profiling"
   ]
  },
  {
   "cell_type": "code",
   "execution_count": null,
   "id": "57de261b-0966-401a-befe-d375978450f1",
   "metadata": {},
   "outputs": [],
   "source": [
    "%%snakeviz \n",
    "results1 = get_valid_pairs_masks(idx_quark, idx_jets)"
   ]
  },
  {
   "cell_type": "code",
   "execution_count": null,
   "id": "027dac38-bdff-46ab-9c5c-762229e8ca77",
   "metadata": {},
   "outputs": [],
   "source": [
    "%%snakeviz \n",
    "results3 = get_valid_pairs_numba(idx_quark, idx_jets, ak.ArrayBuilder())"
   ]
  },
  {
   "cell_type": "markdown",
   "id": "7e320b0e-1ea0-46c2-ae11-7bdaa37871b5",
   "metadata": {},
   "source": [
    "### Check the performance of first part of the algo"
   ]
  },
  {
   "cell_type": "code",
   "execution_count": null,
   "id": "b7d83ef6-72c4-49d7-a2bf-67198d655f49",
   "metadata": {},
   "outputs": [],
   "source": [
    "%%timeit\n",
    "# Compute deltaR(b, jet) and save the nearest jet (deltaR matching)\n",
    "dr_min = 0.4\n",
    "deltaR = ak.flatten(bquarks.metric_table(events.Jet), axis=2) "
   ]
  },
  {
   "cell_type": "code",
   "execution_count": null,
   "id": "4e4064a7-f938-4881-abed-2a28ef225638",
   "metadata": {},
   "outputs": [],
   "source": [
    "%%timeit\n",
    "# keeping only the pairs with a deltaR min\n",
    "maskDR = deltaR < dr_min\n",
    "deltaRcut = deltaR[maskDR] #--> the mask works since we are applying it also to the argcartesian"
   ]
  },
  {
   "cell_type": "code",
   "execution_count": null,
   "id": "4b17fa66-7bcd-44b9-94c6-d0e7b3bae8cc",
   "metadata": {},
   "outputs": [],
   "source": [
    "%%timeit  pass\n",
    "idx_pairs_sorted = ak.argsort(deltaRcut, axis=1)\n"
   ]
  },
  {
   "cell_type": "code",
   "execution_count": null,
   "id": "9dc2d0ac-30c1-49dc-8f7d-dff290c80cba",
   "metadata": {},
   "outputs": [],
   "source": [
    "%%timeit pass\n",
    "pairs = ak.argcartesian([bquarks, events.Jet])[maskDR]"
   ]
  },
  {
   "cell_type": "code",
   "execution_count": null,
   "id": "525cfef1-12e0-4790-8783-fd36afcc5054",
   "metadata": {},
   "outputs": [],
   "source": [
    "%%timeit pass\n",
    "pairs_sorted = pairs[idx_pairs_sorted]\n"
   ]
  },
  {
   "cell_type": "code",
   "execution_count": null,
   "id": "482e6edc-2c13-4fee-b83b-4927d179764e",
   "metadata": {},
   "outputs": [],
   "source": [
    "%%timeit pass\n",
    "idx_quark, idx_jets = ak.unzip(pairs_sorted)"
   ]
  },
  {
   "cell_type": "code",
   "execution_count": null,
   "id": "f89898b1-7f8e-44ba-bac3-1b9bc692a8e8",
   "metadata": {},
   "outputs": [],
   "source": [
    "%%timeit\n",
    "# Compute deltaR(b, jet) and save the nearest jet (deltaR matching)\n",
    "dr_min = 0.4\n",
    "deltaR = ak.flatten(bquarks.metric_table(events.Jet), axis=2)\n",
    "# keeping only the pairs with a deltaR min\n",
    "maskDR = deltaR < dr_min\n",
    "deltaRcut = deltaR[maskDR] #--> the mask works since we are applying it also to the argcartesian\n",
    "idx_pairs_sorted = ak.argsort(deltaRcut, axis=1)\n",
    "pairs = ak.argcartesian([bquarks, events.Jet])[maskDR]\n",
    "pairs_sorted = pairs[idx_pairs_sorted]\n",
    "idx_quark, idx_jets = ak.unzip(pairs_sorted)\n",
    "       "
   ]
  },
  {
   "cell_type": "code",
   "execution_count": null,
   "id": "63466bfe-764d-49f6-8d66-ba37f7d89d9b",
   "metadata": {},
   "outputs": [],
   "source": [
    "idx_quark"
   ]
  },
  {
   "cell_type": "code",
   "execution_count": null,
   "id": "2b53bda0-1696-4a55-8fca-97ec2bcee1ff",
   "metadata": {},
   "outputs": [],
   "source": []
  },
  {
   "cell_type": "code",
   "execution_count": null,
   "id": "0c741388-3872-4131-acba-5abc9b09116d",
   "metadata": {},
   "outputs": [],
   "source": []
  },
  {
   "cell_type": "code",
   "execution_count": null,
   "id": "1ca57320-e478-4d3a-a74c-4eec71d245c2",
   "metadata": {},
   "outputs": [],
   "source": []
  },
  {
   "cell_type": "code",
   "execution_count": null,
   "id": "34e1dd23",
   "metadata": {},
   "outputs": [],
   "source": []
  }
 ],
 "metadata": {
  "kernelspec": {
   "display_name": "Python 3 (ipykernel)",
   "language": "python",
   "name": "python3"
  },
  "language_info": {
   "codemirror_mode": {
    "name": "ipython",
    "version": 3
   },
   "file_extension": ".py",
   "mimetype": "text/x-python",
   "name": "python",
   "nbconvert_exporter": "python",
   "pygments_lexer": "ipython3",
   "version": "3.9.16"
  }
 },
 "nbformat": 4,
 "nbformat_minor": 5
}
