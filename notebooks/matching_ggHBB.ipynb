{
 "cells": [
  {
   "cell_type": "code",
   "execution_count": 102,
   "id": "7acee39f",
   "metadata": {
    "scrolled": true
   },
   "outputs": [],
   "source": [
    "from coffea.nanoevents import NanoEventsFactory, NanoAODSchema\n",
    "from coffea import hist, processor\n",
    "import numpy as np\n",
    "import awkward as ak\n",
    "import matplotlib.pyplot as plt\n",
    "from pprint import pprint\n",
    "import numba"
   ]
  },
  {
   "cell_type": "code",
   "execution_count": 103,
   "id": "eabe73ee-e659-4878-90c6-d777de8fb1be",
   "metadata": {},
   "outputs": [],
   "source": [
    "def show(a, ievt=0):\n",
    "    pprint(a[ievt].tolist())"
   ]
  },
  {
   "cell_type": "code",
   "execution_count": 224,
   "id": "0c89709e",
   "metadata": {},
   "outputs": [],
   "source": [
    "filename = \"root://xrootd-cms.infn.it///store/mc/RunIIAutumn18NanoAOD/GluGluHToBB_M125_13TeV_powheg_pythia8/NANOAODSIM/102X_upgrade2018_realistic_v15-v1/90000/5B46B151-2035-4241-956D-22CA3296B4FD.root\"\n",
    "#events = NanoEventsFactory.from_root(filename, schemaclass=NanoAODSchema).events()\n",
    "events = NanoEventsFactory.from_root(filename, schemaclass=NanoAODSchema).events()\n",
    "\n",
    "\n",
    "dataset = \"ggHTobb\""
   ]
  },
  {
   "cell_type": "code",
   "execution_count": 225,
   "id": "bbbfdba9",
   "metadata": {},
   "outputs": [],
   "source": [
    "ievt = 0\n",
    "mask_HLT = events.HLT.Mu9_IP6_part0 ==1\n",
    "trig_events = events[mask_HLT]"
   ]
  },
  {
   "cell_type": "code",
   "execution_count": 226,
   "id": "b77cb2ad-921c-4539-97c5-77b370a63481",
   "metadata": {},
   "outputs": [],
   "source": [
    "#load_ext snakeviz"
   ]
  },
  {
   "cell_type": "code",
   "execution_count": null,
   "id": "b8b6cde9-dc97-42fa-b366-688d4c34e78c",
   "metadata": {},
   "outputs": [],
   "source": []
  },
  {
   "cell_type": "code",
   "execution_count": 227,
   "id": "9f343764-22b9-4f96-a0e4-8b75aa719d26",
   "metadata": {},
   "outputs": [],
   "source": [
    "#timeit\n",
    "#selects gen b quarks with at least a muon child\n",
    "\n",
    "def get_b(events):\n",
    "\n",
    "# Select b-quarks at Gen level, coming from H->bb decay\n",
    "\n",
    "    #It is a b quark\n",
    "    isB = abs(events.GenPart.pdgId) == 5\n",
    "    \n",
    "    #has a muon child (will/can be substituted with lepton child if needed)\n",
    "    hasMuonChildren =  ak.any(abs(events.GenPart.children.pdgId)==13)\n",
    "    \n",
    "    #has H mother from hard process\n",
    "    hasHmother = events.GenPart[events.GenPart.genPartIdxMother].pdgId==25\n",
    "    hasHardMother = events.GenPart[events.GenPart.genPartIdxMother].hasFlags(['fromHardProcess'])\n",
    "    \n",
    "    #apply mask to GenParticles\n",
    "    bquarks = events.GenPart[isB & hasHmother & ak.any(abs(events.GenPart.children.pdgId)==13)]\n",
    "   \n",
    "    # Sort b-quarks by pt\n",
    "    bquarks = ak.with_name(bquarks[ak.argsort(bquarks.pt, ascending=False)], name='PtEtaPhiMCandidate')\n",
    "    print(len(bquarks.pt))\n",
    "\n",
    "    return bquarks"
   ]
  },
  {
   "cell_type": "code",
   "execution_count": null,
   "id": "75935482-65b2-4c7b-ad5f-64438506c224",
   "metadata": {},
   "outputs": [],
   "source": []
  },
  {
   "cell_type": "code",
   "execution_count": null,
   "id": "46b03011-9cb4-4d6b-8e41-e057564d9226",
   "metadata": {},
   "outputs": [],
   "source": []
  },
  {
   "cell_type": "code",
   "execution_count": null,
   "id": "7f17dc04-406a-4b4f-935e-64b290858814",
   "metadata": {},
   "outputs": [],
   "source": []
  },
  {
   "cell_type": "code",
   "execution_count": 228,
   "id": "daa30008-66d7-4177-933b-7609d4bbb009",
   "metadata": {},
   "outputs": [],
   "source": [
    "#isOutgoing = events.LHEPart.status == 1\n",
    "#isB = abs(events.LHEPart.pdgId) == 5\n",
    "#bquarks = events.LHEPart[isB & isOutgoing]\n",
    "\n",
    "#higgs = events.GenPart[(events.GenPart.pdgId == 25) & events.GenPart.hasFlags(['fromHardProcess'])]\n",
    "#higgs = higgs[ak.num(higgs.childrenIdxG, axis=2) == 2]\n",
    "#bquarks = ak.concatenate( (bquarks, ak.flatten(higgs.children, axis=2)), axis=1 )\n",
    "# Sort b-quarks by pt\n",
    "#bquarks = ak.with_name(bquarks[ak.argsort(bquarks.pt, ascending=False)], name='PtEtaPhiMCandidate')"
   ]
  },
  {
   "cell_type": "code",
   "execution_count": 229,
   "id": "ca3cbd22-4503-42fa-a8db-b04fcc77f3ed",
   "metadata": {},
   "outputs": [],
   "source": [
    "#bquarks = events.LHEPart[isB & isOutgoing]"
   ]
  },
  {
   "cell_type": "code",
   "execution_count": null,
   "id": "048c59d6-a8a2-47d8-baab-87fe83f787f9",
   "metadata": {},
   "outputs": [],
   "source": []
  },
  {
   "cell_type": "code",
   "execution_count": 230,
   "id": "241e9507-d5f1-4b63-9705-5a5a1ba4e701",
   "metadata": {},
   "outputs": [],
   "source": [
    "#%%timeit\n",
    "# Compute deltaR(b, jet) and save the nearest jet (deltaR matching)\n",
    "dr_min = 0.4\n",
    "\n",
    "#ask for exactly one muon in the B jet\n",
    "\n",
    "def get_bjets(events):\n",
    "\n",
    "   \n",
    "    mask_bjet = abs(events.Jet.partonFlavour) ==5\n",
    "    mask_mu1 = events.Jet.muonIdx1 != -1\n",
    "    #mask_mu2 = events.Jet.muonIdx2!= -1\n",
    "    #define muon_jet collection\n",
    "    \n",
    "    #gen_mu = events.Muon.genPartIdx[events.muon_Jet.muonIdx1]!=-1\n",
    "\n",
    "    #require for the muon to be a genMatched mu\n",
    "    \n",
    "  #  match_mu2 = abs(events.GenPart.pdgId[events.Muon.genPartIdx[events.muon_Jet.muonIdx2]])==13\n",
    "\n",
    "    #recompute muon_Jet\n",
    "    events[\"muon_Jet\"] = events.Jet[ mask_bjet & mask_mu1] \n",
    "    match_mu1 = abs(events.GenPart.pdgId[events.Muon.genPartIdx[events.muon_Jet.muonIdx1]])==13\n",
    "    events[\"muon_Jet\"] = events.muon_Jet[match_mu1] \n",
    "\n",
    "    return events.muon_Jet\n",
    "\n",
    "\n",
    "#compute dR between gen b quarks and reco-jets\n",
    "\n",
    "def parton_matching(bquarks,jets):\n",
    "    \n",
    "    deltaR = ak.flatten(bquarks.metric_table(jets), axis=2)\n",
    "\n",
    "    #print(ak.flatten(deltaR))\n",
    "    # keeping only the pairs with a deltaR min\n",
    "\n",
    "    #build the mask for matching and apply it\n",
    "    maskDR = deltaR < dr_min\n",
    "    deltaRcut = deltaR[maskDR]\n",
    "\n",
    "    #show(deltaRcut,1)#--> the mask works since we are applying it also to the argcartesian\n",
    "\n",
    "    idx_pairs_sorted = ak.argsort(deltaRcut, axis=1)\n",
    "    #get the gen b -recojet matched pairs \n",
    "    print(len(bquarks),len(events.Jet))\n",
    "    pairs = ak.argcartesian([bquarks, jets])[maskDR]\n",
    "\n",
    "#show(pairs,1)\n",
    "\n",
    "    pairs_sorted = pairs[idx_pairs_sorted]\n",
    "    deltaR_sorted = deltaRcut[idx_pairs_sorted]\n",
    "\n",
    "    #get the orderd indexes for the pairs in each collection \n",
    "    idx_quark, idx_jets = ak.unzip(pairs_sorted)\n",
    "   \n",
    "\n",
    "    return deltaRcut,deltaR_sorted,idx_quark,idx_jets"
   ]
  },
  {
   "cell_type": "code",
   "execution_count": 231,
   "id": "f3cf981f-3d48-4148-b864-229e64ce59db",
   "metadata": {},
   "outputs": [],
   "source": [
    "def get_valid_pairs_masks(idx_bquarks, idx_Jet):\n",
    "    hasMatch = ak.zeros_like(idx_Jet, dtype=bool)\n",
    "    Npairmax = ak.max(ak.num(idx_bquarks))\n",
    "    # Loop over the (parton, jet) pairs\n",
    "    for idx_pair in range(Npairmax):\n",
    "        idx_bquark = ak.pad_none(idx_bquarks, Npairmax)[:,idx_pair]\n",
    "        idx_match_candidates = idx_Jet[ak.fill_none( (idx_bquarks == idx_bquark) & ~hasMatch, False)]\n",
    "        idx_pair_candidates  = ak.local_index(idx_Jet)[ak.fill_none( (idx_bquarks == idx_bquark) & ~hasMatch, False)]\n",
    "        #print(idx_bquark[ievt], idx_match_candidates[ievt])\n",
    "        #print(idx_bquark[ievt], idx_pair_candidates[ievt])\n",
    "        if idx_pair == 0:\n",
    "            idx_matchedJet    = ak.unflatten( ak.firsts(idx_match_candidates), 1 )\n",
    "            idx_matchedParton = ak.unflatten( idx_bquark, 1 )\n",
    "            idx_matchedPair   = ak.unflatten( ak.firsts(idx_pair_candidates), 1 )\n",
    "        else:\n",
    "            # If the partons are matched in all events or the number of jets is smaller than the number of partons, stop iterating\n",
    "            if ak.all( ( (ak.count(idx_matchedJet, axis=1) == ak.count(bquarks.pt, axis=1)) | (ak.count(events.Jet.pt, axis=1) < ak.count(bquarks.pt, axis=1) ) ) ): break\n",
    "            idx_matchedJet    = ak.concatenate( (idx_matchedJet, ak.unflatten( ak.firsts(idx_match_candidates), 1 ) ), axis=1 )\n",
    "            idx_matchedParton = ak.concatenate( (idx_matchedParton, ak.unflatten( idx_bquark, 1 )), axis=1 )\n",
    "            idx_matchedPair   = ak.concatenate( (idx_matchedPair, ak.unflatten( ak.firsts(idx_pair_candidates), 1 ) ), axis=1 )\n",
    "        # The mask `hasMatch` masks to False the \n",
    "        hasMatch = hasMatch | ak.fill_none(idx_Jet == ak.fill_none(ak.firsts(idx_match_candidates), -99), False) | ak.fill_none(idx_bquarks == idx_bquark, False)\n",
    "        #print(idx_pair, hasMatch[ievt].tolist(), end='\\n\\n')\n",
    "\n",
    "    idx_matchedParton = idx_matchedParton[~ak.is_none(idx_matchedJet, axis=1)]\n",
    "    idx_matchedJet = idx_matchedJet[~ak.is_none(idx_matchedJet, axis=1)]\n",
    "    return idx_matchedParton, idx_matchedJet"
   ]
  },
  {
   "cell_type": "code",
   "execution_count": 232,
   "id": "2a1d823b-5e9a-4b61-a876-93f2a4930f03",
   "metadata": {},
   "outputs": [],
   "source": [
    "def get_valid_pairs_nonumba(idx_quark, idx_jets, builder):\n",
    "    for ev_q, ev_j in zip(idx_quark, idx_jets):\n",
    "        builder.begin_list()\n",
    "        q_done = []\n",
    "        j_done = []\n",
    "        for q,j in zip(ev_q, ev_j):\n",
    "            if q not in q_done and j not in j_done:\n",
    "                builder.begin_record(\"pair\")\n",
    "                builder.field(\"quark\").append(q)\n",
    "                builder.field(\"jet\").append(j)\n",
    "                builder.end_record()\n",
    "                q_done.append(q)\n",
    "                j_done.append(j)\n",
    "        builder.end_list()\n",
    "    return builder"
   ]
  },
  {
   "cell_type": "code",
   "execution_count": 233,
   "id": "b31067e8-14fc-48c8-8a83-c3886af4dc82",
   "metadata": {},
   "outputs": [],
   "source": [
    "def get_valid_pairs_index(idx_quark, idx_jets, builder):\n",
    "    for ev_q, ev_j in zip(idx_quark, idx_jets):\n",
    "        builder.begin_list()\n",
    "        q_done = []\n",
    "        j_done = []\n",
    "        for i, (q,j) in enumerate(zip(ev_q, ev_j)):\n",
    "            if q not in q_done and j not in j_done:\n",
    "                builder.append(i)\n",
    "                q_done.append(q)\n",
    "                j_done.append(j)\n",
    "              #  print(q_done)\n",
    "            #  print(j_done)\n",
    "        builder.end_list()\n",
    "    return builder"
   ]
  },
  {
   "cell_type": "code",
   "execution_count": 243,
   "id": "6e1f2274",
   "metadata": {},
   "outputs": [],
   "source": [
    "def get_dijet(jets, transverse=False):\n",
    "    \n",
    "  #  print(jets.fields)\n",
    "    fields = {\n",
    "        \"pt\": -1,\n",
    "        \"eta\": 1000,\n",
    "        \"phi\": 1000,\n",
    "        \"mass\": -1,\n",
    "    }\n",
    "  \n",
    "    jets= ak.pad_none(jets, 2)\n",
    "    \n",
    "    njets = ak.num(jets[~ak.is_none(jets, axis=1)])\n",
    "\n",
    "    #print(len(jets[ak.num(jets[~ak.is_none(jets, axis=1)])>0]))\n",
    "\n",
    "    jj = jets[:,0] + jets[:,1]\n",
    "    jet1 = jets[:,0]\n",
    "  #  print(jet1)\n",
    "    jet2 =  jets[:,1]\n",
    "   # print(jet2)\n",
    "    deltaR = jet1.delta_r(jet2)\n",
    " \n",
    "   # print(deltaR[0:100])\n",
    "\n",
    "    for var in fields.keys():\n",
    "    \n",
    "        fields[var] = ak.where(\n",
    "            (njets==2),\n",
    "            getattr(jj, var),\n",
    "            fields[var],\n",
    "        )\n",
    " #   print(fields['mass'])\n",
    "    if transverse:\n",
    "        fields[\"eta\"] = ak.zeros_like(fields[\"pt\"])\n",
    "    dijets = ak.zip(fields, with_name=\"PtEtaPhiMCandidate\")\n",
    "    dijets = ak.with_field(dijets, deltaR, \"dRdiJet\", behavior=dijets.behavior)\n",
    "    return dijets\n",
    "\n",
    "def do1DHist(data,data1,bins,x_axis):\n",
    "    fig, ax = plt.subplots(figsize = (10,10))\n",
    "    print('trigger efficiency inclusive',len(data1)/len(data))\n",
    "    plt.hist(data,alpha=0.65,density= True, bins=50)\n",
    "    plt.hist(data1,alpha=0.65,density=True, bins=50)\n",
    "    ax.set_xlabel(x_axis)\n"
   ]
  },
  {
   "cell_type": "markdown",
   "id": "330547b6-d074-432e-8fc7-68ddee16614d",
   "metadata": {},
   "source": [
    "### Checking the results"
   ]
  },
  {
   "cell_type": "code",
   "execution_count": 235,
   "id": "4247fe02-4ce4-44ae-908b-9c742a876246",
   "metadata": {},
   "outputs": [],
   "source": [
    "def getMatchedArrays(events):\n",
    "    \n",
    "    bquarks = get_b(events)\n",
    " \n",
    "    bjets = get_bjets(events)\n",
    "    \n",
    "    deltaR_cut,deltaR_sorted,idx_quark,idx_jets = parton_matching(bquarks,bjets)\n",
    "    \n",
    "\n",
    "    idx_matched = get_valid_pairs_index(idx_quark, idx_jets, ak.ArrayBuilder()).snapshot()\n",
    "    \n",
    "  #  print(len(idx_matched[ak.num(idx_matched)>1]))\n",
    "    plt.hist(ak.flatten(deltaR_cut), bins=50, range=(0, 1))\n",
    "    \n",
    "    matched_quarks = bquarks[idx_quark[idx_matched]]\n",
    "    matched_jets = events.Jet[idx_jets[idx_matched]]\n",
    "    deltaR_matched = deltaR_cut[idx_matched]\n",
    "    \n",
    "    events[\"PartonMatched\"] = ak.with_field(matched_quarks, deltaR_matched, \"dRMatchedJet\", behavior=matched_quarks.behavior)\n",
    "    events[\"JetMatched\"] = ak.with_field(matched_jets, deltaR_matched, \"dRMatchedJet\", behavior=matched_jets.behavior) \n",
    "    \n",
    "    pt_corr = events.JetMatched.pt*events.JetMatched.bRegCorr\n",
    "    events[\"JetMatched\"] = ak.with_field(events.JetMatched, pt_corr, \"pt\", behavior=events.JetMatched.behavior)\n",
    "   # events.Jet = ak.with_field(events.Jet, pt_corr, \"pt\", behavior=events.Jet.behavior)\n",
    "    #print(events.JetMatched.fields)\n",
    "    mu = events.Muon.pt[events.JetMatched.muonIdx1]\n",
    "   \n",
    "    jj = get_dijet(events.JetMatched)\n",
    "    mu = ak.flatten(mu[mu])\n",
    "    mass = ak.flatten(jj.mass[(jj.mass!=-1)  & (jj.mass<300) ],axis =0)\n",
    "    pt = ak.flatten(jj.pt[(jj.mass!=-1)  & (jj.mass<300) ],axis =0)\n",
    "    eta = ak.flatten(jj.eta[(jj.mass!=-1)  & (jj.mass<300) ],axis =0)\n",
    "    phi = ak.flatten(jj.phi[(jj.mass!=-1)  & (jj.mass<300) ],axis =0)\n",
    "    deltaR = ak.flatten(jj.dRdiJet[(jj.mass!=-1)  & (jj.mass<300) ],axis =0)\n",
    "    print(len(deltaR))\n",
    "    return mass,pt,deltaR,mu\n",
    "   # do1DHist(mass,50,\"m_{jj} (GeV)\")\n",
    "    "
   ]
  },
  {
   "cell_type": "code",
   "execution_count": 236,
   "id": "b3f98d7e-9c4c-432b-a182-faeb03536098",
   "metadata": {},
   "outputs": [
    {
     "name": "stdout",
     "output_type": "stream",
     "text": [
      "424000\n",
      "424000 424000\n",
      "3913\n",
      "18109\n",
      "18109 424000\n",
      "1538\n"
     ]
    },
    {
     "data": {
      "image/png": "[encoded data removed]",
      "text/plain": [
       "<Figure size 640x480 with 1 Axes>"
      ]
     },
     "metadata": {},
     "output_type": "display_data"
    }
   ],
   "source": [
    "mj_mass,mj_pt,mj_deltaR,mj_mu = getMatchedArrays(events)\n",
    "tj_mass,tj_pt,tj_deltaR,tj_mu = getMatchedArrays(trig_events)\n",
    "\n",
    "#print(len(ak.flatten(idx_matched)))\n",
    "# plt.yscale(\"log\")\n",
    "#print(ak.flatten(deltaR_sorted[idx_matched]))"
   ]
  },
  {
   "cell_type": "code",
   "execution_count": 244,
   "id": "c3ae71cc-504b-4bda-bcb4-62b2847352e5",
   "metadata": {},
   "outputs": [
    {
     "name": "stdout",
     "output_type": "stream",
     "text": [
      "trigger efficiency inclusive 0.39304881165346284\n"
     ]
    },
    {
     "ename": "ValueError",
     "evalue": "operands could not be broadcast together with shapes (1,1538) (1,3913) ",
     "output_type": "error",
     "traceback": [
      "\u001b[0;31m---------------------------------------------------------------------------\u001b[0m",
      "\u001b[0;31mValueError\u001b[0m                                Traceback (most recent call last)",
      "Cell \u001b[0;32mIn[244], line 2\u001b[0m\n\u001b[1;32m      1\u001b[0m \u001b[38;5;66;03m#events.Jet[idx_jets[idx_matched]][10]\u001b[39;00m\n\u001b[0;32m----> 2\u001b[0m \u001b[43mdo1DHist\u001b[49m\u001b[43m(\u001b[49m\u001b[43mmj_mass\u001b[49m\u001b[43m,\u001b[49m\u001b[43mtj_mass\u001b[49m\u001b[43m,\u001b[49m\u001b[38;5;241;43m50\u001b[39;49m\u001b[43m,\u001b[49m\u001b[38;5;124;43m\"\u001b[39;49m\u001b[38;5;124;43mm_\u001b[39;49m\u001b[38;5;132;43;01m{jj}\u001b[39;49;00m\u001b[38;5;124;43m (GeV)\u001b[39;49m\u001b[38;5;124;43m\"\u001b[39;49m\u001b[43m)\u001b[49m\n\u001b[1;32m      3\u001b[0m do1DHist(mj_pt,tj_pt,\u001b[38;5;241m50\u001b[39m,\u001b[38;5;124m\"\u001b[39m\u001b[38;5;124mp_\u001b[39m\u001b[38;5;132;01m{T}\u001b[39;00m\u001b[38;5;124m^\u001b[39m\u001b[38;5;132;01m{jj}\u001b[39;00m\u001b[38;5;124m (GeV)\u001b[39m\u001b[38;5;124m\"\u001b[39m)\n\u001b[1;32m      4\u001b[0m do1DHist(mj_deltaR,tj_deltaR,\u001b[38;5;241m50\u001b[39m,\u001b[38;5;124m\"\u001b[39m\u001b[38;5;124m#deltaR \u001b[39m\u001b[38;5;124m\"\u001b[39m)\n",
      "Cell \u001b[0;32mIn[243], line 44\u001b[0m, in \u001b[0;36mdo1DHist\u001b[0;34m(data, data1, bins, x_axis)\u001b[0m\n\u001b[1;32m     42\u001b[0m   \u001b[38;5;28mprint\u001b[39m(\u001b[38;5;124m'\u001b[39m\u001b[38;5;124mtrigger efficiency inclusive\u001b[39m\u001b[38;5;124m'\u001b[39m,\u001b[38;5;28mlen\u001b[39m(data1)\u001b[38;5;241m/\u001b[39m\u001b[38;5;28mlen\u001b[39m(data))\n\u001b[1;32m     43\u001b[0m \u001b[38;5;66;03m#  plt.hist(data,alpha=0.65,density= True, bins=50)\u001b[39;00m\n\u001b[0;32m---> 44\u001b[0m   plt\u001b[38;5;241m.\u001b[39mhist(\u001b[43mdata1\u001b[49m\u001b[38;5;241;43m/\u001b[39;49m\u001b[43mdata\u001b[49m,alpha\u001b[38;5;241m=\u001b[39m\u001b[38;5;241m0.65\u001b[39m,density\u001b[38;5;241m=\u001b[39m\u001b[38;5;28;01mTrue\u001b[39;00m, bins\u001b[38;5;241m=\u001b[39m\u001b[38;5;241m50\u001b[39m)\n\u001b[1;32m     45\u001b[0m   ax\u001b[38;5;241m.\u001b[39mset_xlabel(x_axis)\n",
      "File \u001b[0;32m~/micromamba/envs/pocket-coffea/lib/python3.9/site-packages/numpy/lib/mixins.py:21\u001b[0m, in \u001b[0;36m_binary_method.<locals>.func\u001b[0;34m(self, other)\u001b[0m\n\u001b[1;32m     19\u001b[0m \u001b[38;5;28;01mif\u001b[39;00m _disables_array_ufunc(other):\n\u001b[1;32m     20\u001b[0m     \u001b[38;5;28;01mreturn\u001b[39;00m \u001b[38;5;28mNotImplemented\u001b[39m\n\u001b[0;32m---> 21\u001b[0m \u001b[38;5;28;01mreturn\u001b[39;00m \u001b[43mufunc\u001b[49m\u001b[43m(\u001b[49m\u001b[38;5;28;43mself\u001b[39;49m\u001b[43m,\u001b[49m\u001b[43m \u001b[49m\u001b[43mother\u001b[49m\u001b[43m)\u001b[49m\n",
      "File \u001b[0;32m~/.local/lib/python3.9/site-packages/awkward/highlevel.py:1411\u001b[0m, in \u001b[0;36mArray.__array_ufunc__\u001b[0;34m(self, ufunc, method, *inputs, **kwargs)\u001b[0m\n\u001b[1;32m   1354\u001b[0m \u001b[38;5;250m\u001b[39m\u001b[38;5;124;03m\"\"\"\u001b[39;00m\n\u001b[1;32m   1355\u001b[0m \u001b[38;5;124;03mIntercepts attempts to pass this Array to a NumPy\u001b[39;00m\n\u001b[1;32m   1356\u001b[0m \u001b[38;5;124;03m[universal functions](https://docs.scipy.org/doc/numpy/reference/ufuncs.html)\u001b[39;00m\n\u001b[0;32m   (...)\u001b[0m\n\u001b[1;32m   1408\u001b[0m \u001b[38;5;124;03mSee also #__array_function__.\u001b[39;00m\n\u001b[1;32m   1409\u001b[0m \u001b[38;5;124;03m\"\"\"\u001b[39;00m\n\u001b[1;32m   1410\u001b[0m \u001b[38;5;28;01mif\u001b[39;00m \u001b[38;5;129;01mnot\u001b[39;00m \u001b[38;5;28mhasattr\u001b[39m(\u001b[38;5;28mself\u001b[39m, \u001b[38;5;124m\"\u001b[39m\u001b[38;5;124m_tracers\u001b[39m\u001b[38;5;124m\"\u001b[39m):\n\u001b[0;32m-> 1411\u001b[0m     \u001b[38;5;28;01mreturn\u001b[39;00m \u001b[43mak\u001b[49m\u001b[38;5;241;43m.\u001b[39;49m\u001b[43m_connect\u001b[49m\u001b[38;5;241;43m.\u001b[39;49m\u001b[43m_numpy\u001b[49m\u001b[38;5;241;43m.\u001b[39;49m\u001b[43marray_ufunc\u001b[49m\u001b[43m(\u001b[49m\u001b[43mufunc\u001b[49m\u001b[43m,\u001b[49m\u001b[43m \u001b[49m\u001b[43mmethod\u001b[49m\u001b[43m,\u001b[49m\u001b[43m \u001b[49m\u001b[43minputs\u001b[49m\u001b[43m,\u001b[49m\u001b[43m \u001b[49m\u001b[43mkwargs\u001b[49m\u001b[43m)\u001b[49m\n\u001b[1;32m   1412\u001b[0m \u001b[38;5;28;01melse\u001b[39;00m:\n\u001b[1;32m   1413\u001b[0m     \u001b[38;5;28;01mreturn\u001b[39;00m ak\u001b[38;5;241m.\u001b[39m_connect\u001b[38;5;241m.\u001b[39m_jax\u001b[38;5;241m.\u001b[39mjax_utils\u001b[38;5;241m.\u001b[39marray_ufunc(\n\u001b[1;32m   1414\u001b[0m         \u001b[38;5;28mself\u001b[39m, ufunc, method, inputs, kwargs\n\u001b[1;32m   1415\u001b[0m     )\n",
      "File \u001b[0;32m~/.local/lib/python3.9/site-packages/awkward/_connect/_numpy.py:250\u001b[0m, in \u001b[0;36marray_ufunc\u001b[0;34m(ufunc, method, inputs, kwargs)\u001b[0m\n\u001b[1;32m    240\u001b[0m         \u001b[38;5;28;01mraise\u001b[39;00m \u001b[38;5;167;01mValueError\u001b[39;00m(\n\u001b[1;32m    241\u001b[0m             \u001b[38;5;124m\"\u001b[39m\u001b[38;5;124mno overloads for custom types: \u001b[39m\u001b[38;5;132;01m{}\u001b[39;00m\u001b[38;5;124m(\u001b[39m\u001b[38;5;132;01m{}\u001b[39;00m\u001b[38;5;124m)\u001b[39m\u001b[38;5;124m\"\u001b[39m\u001b[38;5;241m.\u001b[39mformat(\n\u001b[1;32m    242\u001b[0m                 ufunc\u001b[38;5;241m.\u001b[39m\u001b[38;5;18m__name__\u001b[39m,\n\u001b[0;32m   (...)\u001b[0m\n\u001b[1;32m    245\u001b[0m             \u001b[38;5;241m+\u001b[39m ak\u001b[38;5;241m.\u001b[39m_util\u001b[38;5;241m.\u001b[39mexception_suffix(\u001b[38;5;18m__file__\u001b[39m)\n\u001b[1;32m    246\u001b[0m         )\n\u001b[1;32m    248\u001b[0m     \u001b[38;5;28;01mreturn\u001b[39;00m \u001b[38;5;28;01mNone\u001b[39;00m\n\u001b[0;32m--> 250\u001b[0m out \u001b[38;5;241m=\u001b[39m \u001b[43mak\u001b[49m\u001b[38;5;241;43m.\u001b[39;49m\u001b[43m_util\u001b[49m\u001b[38;5;241;43m.\u001b[39;49m\u001b[43mbroadcast_and_apply\u001b[49m\u001b[43m(\u001b[49m\n\u001b[1;32m    251\u001b[0m \u001b[43m    \u001b[49m\u001b[43minputs\u001b[49m\u001b[43m,\u001b[49m\u001b[43m \u001b[49m\u001b[43mgetfunction\u001b[49m\u001b[43m,\u001b[49m\u001b[43m \u001b[49m\u001b[43mbehavior\u001b[49m\u001b[43m,\u001b[49m\u001b[43m \u001b[49m\u001b[43mallow_records\u001b[49m\u001b[38;5;241;43m=\u001b[39;49m\u001b[38;5;28;43;01mFalse\u001b[39;49;00m\u001b[43m,\u001b[49m\u001b[43m \u001b[49m\u001b[43mpass_depth\u001b[49m\u001b[38;5;241;43m=\u001b[39;49m\u001b[38;5;28;43;01mFalse\u001b[39;49;00m\n\u001b[1;32m    252\u001b[0m \u001b[43m\u001b[49m\u001b[43m)\u001b[49m\n\u001b[1;32m    253\u001b[0m \u001b[38;5;28;01massert\u001b[39;00m \u001b[38;5;28misinstance\u001b[39m(out, \u001b[38;5;28mtuple\u001b[39m) \u001b[38;5;129;01mand\u001b[39;00m \u001b[38;5;28mlen\u001b[39m(out) \u001b[38;5;241m==\u001b[39m \u001b[38;5;241m1\u001b[39m\n\u001b[1;32m    254\u001b[0m \u001b[38;5;28;01mreturn\u001b[39;00m ak\u001b[38;5;241m.\u001b[39m_util\u001b[38;5;241m.\u001b[39mwrap(out[\u001b[38;5;241m0\u001b[39m], behavior)\n",
      "File \u001b[0;32m~/.local/lib/python3.9/site-packages/awkward/_util.py:1172\u001b[0m, in \u001b[0;36mbroadcast_and_apply\u001b[0;34m(inputs, getfunction, behavior, allow_records, pass_depth, pass_user, user, left_broadcast, right_broadcast, numpy_to_regular, regular_to_jagged)\u001b[0m\n\u001b[1;32m   1170\u001b[0m \u001b[38;5;28;01melse\u001b[39;00m:\n\u001b[1;32m   1171\u001b[0m     isscalar \u001b[38;5;241m=\u001b[39m []\n\u001b[0;32m-> 1172\u001b[0m     out \u001b[38;5;241m=\u001b[39m \u001b[43mapply\u001b[49m\u001b[43m(\u001b[49m\u001b[43mbroadcast_pack\u001b[49m\u001b[43m(\u001b[49m\u001b[43minputs\u001b[49m\u001b[43m,\u001b[49m\u001b[43m \u001b[49m\u001b[43misscalar\u001b[49m\u001b[43m)\u001b[49m\u001b[43m,\u001b[49m\u001b[43m \u001b[49m\u001b[38;5;241;43m0\u001b[39;49m\u001b[43m,\u001b[49m\u001b[43m \u001b[49m\u001b[43muser\u001b[49m\u001b[43m)\u001b[49m\n\u001b[1;32m   1173\u001b[0m     \u001b[38;5;28;01massert\u001b[39;00m \u001b[38;5;28misinstance\u001b[39m(out, \u001b[38;5;28mtuple\u001b[39m)\n\u001b[1;32m   1174\u001b[0m     \u001b[38;5;28;01mreturn\u001b[39;00m \u001b[38;5;28mtuple\u001b[39m(broadcast_unpack(x, isscalar) \u001b[38;5;28;01mfor\u001b[39;00m x \u001b[38;5;129;01min\u001b[39;00m out)\n",
      "File \u001b[0;32m~/.local/lib/python3.9/site-packages/awkward/_util.py:739\u001b[0m, in \u001b[0;36mbroadcast_and_apply.<locals>.apply\u001b[0;34m(inputs, depth, user)\u001b[0m\n\u001b[1;32m    736\u001b[0m \u001b[38;5;28;01mif\u001b[39;00m pass_user:\n\u001b[1;32m    737\u001b[0m     args \u001b[38;5;241m=\u001b[39m args \u001b[38;5;241m+\u001b[39m (user,)\n\u001b[0;32m--> 739\u001b[0m custom \u001b[38;5;241m=\u001b[39m \u001b[43mgetfunction\u001b[49m\u001b[43m(\u001b[49m\u001b[43minputs\u001b[49m\u001b[43m,\u001b[49m\u001b[43m \u001b[49m\u001b[38;5;241;43m*\u001b[39;49m\u001b[43margs\u001b[49m\u001b[43m)\u001b[49m\n\u001b[1;32m    740\u001b[0m \u001b[38;5;28;01mif\u001b[39;00m \u001b[38;5;28mcallable\u001b[39m(custom):\n\u001b[1;32m    741\u001b[0m     \u001b[38;5;28;01mreturn\u001b[39;00m custom()\n",
      "File \u001b[0;32m~/.local/lib/python3.9/site-packages/awkward/_connect/_numpy.py:195\u001b[0m, in \u001b[0;36marray_ufunc.<locals>.getfunction\u001b[0;34m(inputs)\u001b[0m\n\u001b[1;32m    186\u001b[0m \u001b[38;5;28;01mif\u001b[39;00m \u001b[38;5;28mall\u001b[39m(\n\u001b[1;32m    187\u001b[0m     (\n\u001b[1;32m    188\u001b[0m         \u001b[38;5;28misinstance\u001b[39m(x, ak\u001b[38;5;241m.\u001b[39mlayout\u001b[38;5;241m.\u001b[39mNumpyArray)\n\u001b[0;32m   (...)\u001b[0m\n\u001b[1;32m    192\u001b[0m     \u001b[38;5;28;01mfor\u001b[39;00m x \u001b[38;5;129;01min\u001b[39;00m inputs\n\u001b[1;32m    193\u001b[0m ):\n\u001b[1;32m    194\u001b[0m     nplike \u001b[38;5;241m=\u001b[39m ak\u001b[38;5;241m.\u001b[39mnplike\u001b[38;5;241m.\u001b[39mof(\u001b[38;5;241m*\u001b[39minputs)\n\u001b[0;32m--> 195\u001b[0m     result \u001b[38;5;241m=\u001b[39m \u001b[38;5;28;43mgetattr\u001b[39;49m\u001b[43m(\u001b[49m\u001b[43mufunc\u001b[49m\u001b[43m,\u001b[49m\u001b[43m \u001b[49m\u001b[43mmethod\u001b[49m\u001b[43m)\u001b[49m\u001b[43m(\u001b[49m\n\u001b[1;32m    196\u001b[0m \u001b[43m        \u001b[49m\u001b[38;5;241;43m*\u001b[39;49m\u001b[43m[\u001b[49m\u001b[43mnplike\u001b[49m\u001b[38;5;241;43m.\u001b[39;49m\u001b[43masarray\u001b[49m\u001b[43m(\u001b[49m\u001b[43mx\u001b[49m\u001b[43m)\u001b[49m\u001b[43m \u001b[49m\u001b[38;5;28;43;01mfor\u001b[39;49;00m\u001b[43m \u001b[49m\u001b[43mx\u001b[49m\u001b[43m \u001b[49m\u001b[38;5;129;43;01min\u001b[39;49;00m\u001b[43m \u001b[49m\u001b[43minputs\u001b[49m\u001b[43m]\u001b[49m\u001b[43m,\u001b[49m\u001b[43m \u001b[49m\u001b[38;5;241;43m*\u001b[39;49m\u001b[38;5;241;43m*\u001b[39;49m\u001b[43mkwargs\u001b[49m\n\u001b[1;32m    197\u001b[0m \u001b[43m    \u001b[49m\u001b[43m)\u001b[49m\n\u001b[1;32m    198\u001b[0m     \u001b[38;5;28;01mreturn\u001b[39;00m \u001b[38;5;28;01mlambda\u001b[39;00m: (ak\u001b[38;5;241m.\u001b[39moperations\u001b[38;5;241m.\u001b[39mconvert\u001b[38;5;241m.\u001b[39mfrom_numpy(result, highlevel\u001b[38;5;241m=\u001b[39m\u001b[38;5;28;01mFalse\u001b[39;00m),)\n\u001b[1;32m    199\u001b[0m \u001b[38;5;28;01melif\u001b[39;00m \u001b[38;5;28mall\u001b[39m(\n\u001b[1;32m    200\u001b[0m     \u001b[38;5;28misinstance\u001b[39m(x, ak\u001b[38;5;241m.\u001b[39mlayout\u001b[38;5;241m.\u001b[39mNumpyArray) \u001b[38;5;129;01mand\u001b[39;00m (x\u001b[38;5;241m.\u001b[39mformat\u001b[38;5;241m.\u001b[39mupper()\u001b[38;5;241m.\u001b[39mstartswith(\u001b[38;5;124m\"\u001b[39m\u001b[38;5;124mM\u001b[39m\u001b[38;5;124m\"\u001b[39m))\n\u001b[1;32m    201\u001b[0m     \u001b[38;5;28;01mfor\u001b[39;00m x \u001b[38;5;129;01min\u001b[39;00m inputs\n\u001b[1;32m    202\u001b[0m ):\n",
      "\u001b[0;31mValueError\u001b[0m: operands could not be broadcast together with shapes (1,1538) (1,3913) "
     ]
    },
    {
     "data": {
      "image/png": "[encoded data removed]",
      "text/plain": [
       "<Figure size 1000x1000 with 1 Axes>"
      ]
     },
     "metadata": {},
     "output_type": "display_data"
    }
   ],
   "source": [
    "#events.Jet[idx_jets[idx_matched]][10]\n",
    "do1DHist(mj_mass,tj_mass,50,\"m_{jj} (GeV)\")\n",
    "do1DHist(mj_pt,tj_pt,50,\"p_{T}^{jj} (GeV)\")\n",
    "do1DHist(mj_deltaR,tj_deltaR,50,\"#deltaR \")\n",
    "do1DHist(mj_mu,tj_mu,50,\"Muon pT (GeV) \")"
   ]
  },
  {
   "cell_type": "code",
   "execution_count": 415,
   "id": "5dec985f-4993-41e7-aceb-5eb5f78dfc52",
   "metadata": {},
   "outputs": [
    {
     "name": "stdout",
     "output_type": "stream",
     "text": [
      "176000\n",
      "\n",
      "176000\n",
      "176000\n"
     ]
    }
   ],
   "source": [
    "#idx_matched = get_valid_pairs_index(idx_quark, idx_jets, ak.ArrayBuilder()).snapshot()\n",
    "#idx_matched = get_valid_pairs_index(idx_quark, idx_jets, ak.ArrayBuilder()).snapshot()\n",
    "print(len(idx_matched))\n",
    "print()\n",
    "# The invalid jet matches result in a None value. Only non-None values are selected.\n",
    "matched_quarks = bquarks[idx_quark[idx_matched]]\n",
    "matched_jets = events.Jet[idx_jets[idx_matched]]\n",
    "deltaR_matched = deltaRcut[idx_matched]\n",
    "print(len(matched_jets))\n",
    "print(len(matched_quarks))"
   ]
  },
  {
   "cell_type": "code",
   "execution_count": 47,
   "id": "de39f1e0-86f0-4415-9e00-25499f28f324",
   "metadata": {},
   "outputs": [
    {
     "ename": "NameError",
     "evalue": "name 'matched_quarks' is not defined",
     "output_type": "error",
     "traceback": [
      "\u001b[0;31m---------------------------------------------------------------------------\u001b[0m",
      "\u001b[0;31mNameError\u001b[0m                                 Traceback (most recent call last)",
      "Cell \u001b[0;32mIn[47], line 1\u001b[0m\n\u001b[0;32m----> 1\u001b[0m events[\u001b[38;5;124m\"\u001b[39m\u001b[38;5;124mPartonMatched\u001b[39m\u001b[38;5;124m\"\u001b[39m] \u001b[38;5;241m=\u001b[39m ak\u001b[38;5;241m.\u001b[39mwith_field(\u001b[43mmatched_quarks\u001b[49m, deltaR_matched, \u001b[38;5;124m\"\u001b[39m\u001b[38;5;124mdRMatchedJet\u001b[39m\u001b[38;5;124m\"\u001b[39m, behavior\u001b[38;5;241m=\u001b[39mmatched_quarks\u001b[38;5;241m.\u001b[39mbehavior)\n\u001b[1;32m      2\u001b[0m events[\u001b[38;5;124m\"\u001b[39m\u001b[38;5;124mJetMatched\u001b[39m\u001b[38;5;124m\"\u001b[39m] \u001b[38;5;241m=\u001b[39m ak\u001b[38;5;241m.\u001b[39mwith_field(matched_jets, deltaR_matched, \u001b[38;5;124m\"\u001b[39m\u001b[38;5;124mdRMatchedJet\u001b[39m\u001b[38;5;124m\"\u001b[39m, behavior\u001b[38;5;241m=\u001b[39mmatched_jets\u001b[38;5;241m.\u001b[39mbehavior) \n\u001b[1;32m      3\u001b[0m \u001b[38;5;28mprint\u001b[39m(\u001b[38;5;28mlen\u001b[39m(events\u001b[38;5;241m.\u001b[39mJetMatched[ak\u001b[38;5;241m.\u001b[39mnum(events\u001b[38;5;241m.\u001b[39mJetMatched[\u001b[38;5;241m~\u001b[39mak\u001b[38;5;241m.\u001b[39mis_none(events\u001b[38;5;241m.\u001b[39mJetMatched, axis\u001b[38;5;241m=\u001b[39m\u001b[38;5;241m1\u001b[39m)])\u001b[38;5;241m>\u001b[39m\u001b[38;5;241m1\u001b[39m]))\n",
      "\u001b[0;31mNameError\u001b[0m: name 'matched_quarks' is not defined"
     ]
    }
   ],
   "source": [
    "events[\"PartonMatched\"] = ak.with_field(matched_quarks, deltaR_matched, \"dRMatchedJet\", behavior=matched_quarks.behavior)\n",
    "events[\"JetMatched\"] = ak.with_field(matched_jets, deltaR_matched, \"dRMatchedJet\", behavior=matched_jets.behavior) \n",
    "print(len(events.JetMatched[ak.num(events.JetMatched[~ak.is_none(events.JetMatched, axis=1)])>1]))\n",
    "pt_corr = events.Jet.pt*events.Jet.bRegCorr\n",
    "#events[\"JetMatched\"] = ak.with_field(events.JetMatched, pt_corr, \"pt\", behavior=events.JetMatched.behavior)\n",
    "events.Jet = ak.with_field(events.Jet, pt_corr, \"pt\", behavior=events.Jet.behavior)\n",
    "#print(events.JetMatched.fields)\n",
    "trigger = events[mask_HLT]\n",
    "jj = get_dijet(trigger.Jet[mask_mu1])\n",
    "\n",
    "dpt = events.PartonMatched.pt - events.JetMatched.pt \n",
    "dpt_corr = events.PartonMatched.pt - events.JetMatched.pt*events.JetMatched.bRegCorr \n",
    "\n",
    "print('dpt',ak.flatten(dpt[0:100]))\n",
    "\n",
    "#print(events.JetMatched.type)\n",
    "#caster = ak.flatten(jj.dRdiJet[jj.mass!=-1],axis =0)\n",
    "mass = caster = ak.flatten(jj.mass[(jj.mass!=-1)  & (jj.mass<500) ],axis =0)\n",
    "print(len(caster[caster!=0]))\n",
    "\n",
    "#print(events.JetMatched.partonFlavour)\n",
    "\n",
    "#plt.hist(ak.flatten(dpt_corr), bins=50)\n",
    "plt.hist(caster, bins=50)\n",
    "\n"
   ]
  },
  {
   "cell_type": "code",
   "execution_count": 429,
   "id": "fd3ce00a-7e17-4964-b16c-2d86f7628595",
   "metadata": {},
   "outputs": [
    {
     "data": {
      "text/plain": [
       "<Array [0, 0, 0, 0, 0, 0, ... 0, 0, 0, 0, 0, 0] type='176000 * int64'>"
      ]
     },
     "execution_count": 429,
     "metadata": {},
     "output_type": "execute_result"
    }
   ],
   "source": [
    "ak.num(events.PartonMatched, axis=1)"
   ]
  },
  {
   "cell_type": "markdown",
   "id": "fc340697-22ae-4bd2-874c-1fde4d6ba453",
   "metadata": {},
   "source": [
    "### Check profiling"
   ]
  },
  {
   "cell_type": "code",
   "execution_count": null,
   "id": "57de261b-0966-401a-befe-d375978450f1",
   "metadata": {},
   "outputs": [],
   "source": [
    "%%snakeviz \n",
    "results1 = get_valid_pairs_masks(idx_quark, idx_jets)"
   ]
  },
  {
   "cell_type": "code",
   "execution_count": null,
   "id": "027dac38-bdff-46ab-9c5c-762229e8ca77",
   "metadata": {},
   "outputs": [],
   "source": [
    "%%snakeviz \n",
    "results3 = get_valid_pairs_numba(idx_quark, idx_jets, ak.ArrayBuilder())"
   ]
  },
  {
   "cell_type": "markdown",
   "id": "7e320b0e-1ea0-46c2-ae11-7bdaa37871b5",
   "metadata": {},
   "source": [
    "### Check the performance of first part of the algo"
   ]
  },
  {
   "cell_type": "code",
   "execution_count": null,
   "id": "b7d83ef6-72c4-49d7-a2bf-67198d655f49",
   "metadata": {},
   "outputs": [],
   "source": [
    "%%timeit\n",
    "# Compute deltaR(b, jet) and save the nearest jet (deltaR matching)\n",
    "dr_min = 0.4\n",
    "deltaR = ak.flatten(bquarks.metric_table(events.Jet), axis=2) "
   ]
  },
  {
   "cell_type": "code",
   "execution_count": null,
   "id": "4e4064a7-f938-4881-abed-2a28ef225638",
   "metadata": {},
   "outputs": [],
   "source": [
    "%%timeit\n",
    "# keeping only the pairs with a deltaR min\n",
    "maskDR = deltaR < dr_min\n",
    "deltaRcut = deltaR[maskDR] #--> the mask works since we are applying it also to the argcartesian"
   ]
  },
  {
   "cell_type": "code",
   "execution_count": null,
   "id": "4b17fa66-7bcd-44b9-94c6-d0e7b3bae8cc",
   "metadata": {},
   "outputs": [],
   "source": [
    "%%timeit  pass\n",
    "idx_pairs_sorted = ak.argsort(deltaRcut, axis=1)\n"
   ]
  },
  {
   "cell_type": "code",
   "execution_count": null,
   "id": "9dc2d0ac-30c1-49dc-8f7d-dff290c80cba",
   "metadata": {},
   "outputs": [],
   "source": [
    "%%timeit pass\n",
    "pairs = ak.argcartesian([bquarks, events.Jet])[maskDR]"
   ]
  },
  {
   "cell_type": "code",
   "execution_count": null,
   "id": "525cfef1-12e0-4790-8783-fd36afcc5054",
   "metadata": {},
   "outputs": [],
   "source": [
    "%%timeit pass\n",
    "pairs_sorted = pairs[idx_pairs_sorted]\n"
   ]
  },
  {
   "cell_type": "code",
   "execution_count": null,
   "id": "482e6edc-2c13-4fee-b83b-4927d179764e",
   "metadata": {},
   "outputs": [],
   "source": [
    "%%timeit pass\n",
    "idx_quark, idx_jets = ak.unzip(pairs_sorted)"
   ]
  },
  {
   "cell_type": "code",
   "execution_count": null,
   "id": "f89898b1-7f8e-44ba-bac3-1b9bc692a8e8",
   "metadata": {},
   "outputs": [],
   "source": [
    "%%timeit\n",
    "# Compute deltaR(b, jet) and save the nearest jet (deltaR matching)\n",
    "dr_min = 0.4\n",
    "deltaR = ak.flatten(bquarks.metric_table(events.Jet), axis=2)\n",
    "# keeping only the pairs with a deltaR min\n",
    "maskDR = deltaR < dr_min\n",
    "deltaRcut = deltaR[maskDR] #--> the mask works since we are applying it also to the argcartesian\n",
    "idx_pairs_sorted = ak.argsort(deltaRcut, axis=1)\n",
    "pairs = ak.argcartesian([bquarks, events.Jet])[maskDR]\n",
    "pairs_sorted = pairs[idx_pairs_sorted]\n",
    "idx_quark, idx_jets = ak.unzip(pairs_sorted)\n",
    "       "
   ]
  },
  {
   "cell_type": "code",
   "execution_count": null,
   "id": "63466bfe-764d-49f6-8d66-ba37f7d89d9b",
   "metadata": {},
   "outputs": [],
   "source": [
    "idx_quark"
   ]
  },
  {
   "cell_type": "code",
   "execution_count": null,
   "id": "2b53bda0-1696-4a55-8fca-97ec2bcee1ff",
   "metadata": {},
   "outputs": [],
   "source": []
  },
  {
   "cell_type": "code",
   "execution_count": null,
   "id": "0c741388-3872-4131-acba-5abc9b09116d",
   "metadata": {},
   "outputs": [],
   "source": []
  },
  {
   "cell_type": "code",
   "execution_count": null,
   "id": "1ca57320-e478-4d3a-a74c-4eec71d245c2",
   "metadata": {},
   "outputs": [],
   "source": []
  },
  {
   "cell_type": "code",
   "execution_count": null,
   "id": "34e1dd23",
   "metadata": {},
   "outputs": [],
   "source": []
  }
 ],
 "metadata": {
  "kernelspec": {
   "display_name": "Python 3 (ipykernel)",
   "language": "python",
   "name": "python3"
  },
  "language_info": {
   "codemirror_mode": {
    "name": "ipython",
    "version": 3
   },
   "file_extension": ".py",
   "mimetype": "text/x-python",
   "name": "python",
   "nbconvert_exporter": "python",
   "pygments_lexer": "ipython3",
   "version": "3.9.16"
  }
 },
 "nbformat": 4,
 "nbformat_minor": 5
}
